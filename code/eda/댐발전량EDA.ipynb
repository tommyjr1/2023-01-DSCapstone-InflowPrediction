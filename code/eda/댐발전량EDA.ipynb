{
 "cells": [
  {
   "cell_type": "code",
   "execution_count": null,
   "metadata": {},
   "outputs": [],
   "source": [
    "import pandas as pd\n",
    "import numpy as np\n",
    "import matplotlib.pyplot as plt\n",
    "from matplotlib import rc\n",
    "import seaborn as sns\n",
    "import datetime\n",
    "from glob import glob"
   ]
  },
  {
   "cell_type": "code",
   "execution_count": null,
   "metadata": {},
   "outputs": [],
   "source": [
    "dailyDf = pd.read_csv(\"../data/data/합천_댐기상종합_forTrain.csv\", index_col=0)\n",
    "dailyDf.index = pd.to_datetime(dailyDf.index)"
   ]
  },
  {
   "cell_type": "code",
   "execution_count": null,
   "metadata": {},
   "outputs": [],
   "source": [
    "plt.rc('font', family='AppleGothic') \t\t\t## 이 두 줄을 \n",
    "plt.rcParams['axes.unicode_minus'] = False  ## 추가해줍니다. \n",
    "plt.rcParams[\"figure.figsize\"] = (14,4)\n",
    "plt.rcParams['axes.grid'] = True"
   ]
  },
  {
   "cell_type": "code",
   "execution_count": null,
   "metadata": {},
   "outputs": [],
   "source": [
    "dailyDf.columns"
   ]
  },
  {
   "cell_type": "code",
   "execution_count": null,
   "metadata": {},
   "outputs": [],
   "source": [
    "sns.lineplot(dailyDf, x=dailyDf.index, y='sin_month')\n",
    "sns.lineplot(dailyDf, x=dailyDf.index, y='cos_month')\n"
   ]
  },
  {
   "cell_type": "code",
   "execution_count": null,
   "metadata": {},
   "outputs": [],
   "source": [
    "\n",
    "sns.lineplot(dailyDf, x=dailyDf.index, y='전일유입량')\n",
    "# sns.lineplot(dailyDf, x='시간', y='발전량(실적)', label=\"실적량\")\n",
    "plt.ylabel(\"(mm)\")\n",
    "plt.title(\"전체 전일유입량\")"
   ]
  },
  {
   "cell_type": "code",
   "execution_count": null,
   "metadata": {},
   "outputs": [],
   "source": [
    "# plot with 2 different axes for a dataset with different scales\n",
    "# left side\n",
    "\n",
    "fig, ax1 = plt.subplots()\n",
    "fig = plt.figure(figsize=(56,9))\n",
    "plt.rcParams[\"figure.figsize\"] = (14,4)\n",
    "\n",
    "\n",
    "color_1 = 'tab:blue'\n",
    "ax1.set_title('실적 발전량과 계획대비 발전률')\n",
    "ax1.set_ylabel('실적발전량', color=color_1)\n",
    "ax1.plot(dailyDf.index, dailyDf['발전량(실적)'], color=color_1)\n",
    "ax1.tick_params(axis='y', labelcolor=color_1)\n",
    "\n",
    "# right side with different scale\n",
    "ax2 = ax1.twinx() # instantiate a second axes that shares the same x-axis\n",
    "color_2 = 'tab:red'\n",
    "ax2.set_ylabel('계획대비 발전률', color=color_2)\n",
    "ax2.plot(dailyDf.index, dailyDf['발전량(계획대비)'],  color=color_2)\n",
    "ax2.tick_params(axis='y', labelcolor=color_2)\n",
    "\n",
    "\n",
    "fig.tight_layout()\n",
    "plt.show()"
   ]
  },
  {
   "cell_type": "code",
   "execution_count": null,
   "metadata": {},
   "outputs": [],
   "source": [
    "sns.lineplot((dailyDf['발전량(실적)']-dailyDf['발전량(계획)']))\n",
    "plt.title(\"전체 실적발전량-계획발전량\")\n",
    "plt.ylabel('(MwH)')\n",
    "plt.axhline(0)"
   ]
  },
  {
   "cell_type": "code",
   "execution_count": null,
   "metadata": {},
   "outputs": [],
   "source": [
    "dailyDf['실적-계획'] = np.where((dailyDf['발전량(실적)']-dailyDf['발전량(계획)'])>=0 , '초과' , '부족')\n",
    "dailyDf['실적-계획'] = np.where((dailyDf['발전량(실적)']-dailyDf['발전량(계획)'])==0 , '적절계획' , dailyDf['실적-계획'])\n",
    "\n"
   ]
  },
  {
   "cell_type": "code",
   "execution_count": null,
   "metadata": {},
   "outputs": [],
   "source": [
    "df2016 = dailyDf['2016-01-01 00:00:00': '2017-01-01 00:00:00']\n",
    "df2017 = dailyDf['2017-01-01 00:00:00': '2018-01-01 00:00:00']\n",
    "df2018 = dailyDf['2018-01-01 00:00:00': '2019-01-01 00:00:00']\n",
    "df2019 = dailyDf['2019-01-01 00:00:00': '2020-01-01 00:00:00']\n",
    "df2020 = dailyDf['2020-01-01 00:00:00': '2021-01-01 00:00:00']\n",
    "df2021 = dailyDf['2021-01-01 00:00:00': '2022-01-01 00:00:00']\n",
    "\n"
   ]
  },
  {
   "cell_type": "code",
   "execution_count": null,
   "metadata": {},
   "outputs": [],
   "source": [
    "plt.figure(figsize=(20,15))\n",
    "plt.title('16-21 전일유입량')\n",
    "\n",
    "plt.subplot(3,2,1)\n",
    "plt.plot(df2016.index, df2016['전일유입량'])\n",
    "plt.title('2016')\n",
    "\n",
    "plt.subplot(3,2,2)\n",
    "plt.plot(df2017.index, df2017['전일유입량'])\n",
    "plt.title('2017')\n",
    "\n",
    "plt.subplot(3,2,3)\n",
    "plt.plot(df2018.index, df2018['전일유입량'])\n",
    "plt.title('2018')\n",
    "\n",
    "plt.subplot(3,2,4)\n",
    "plt.plot(df2019.index, df2019['전일유입량'])\n",
    "plt.title('2019')\n",
    "\n",
    "plt.subplot(3,2,5)\n",
    "plt.plot(df2020.index, df2020['전일유입량'])\n",
    "plt.title('2020')\n",
    "\n",
    "plt.subplot(3,2,6)\n",
    "plt.plot(df2021.index, df2021['전일유입량'])\n",
    "plt.title('2021')\n",
    "\n"
   ]
  },
  {
   "cell_type": "code",
   "execution_count": null,
   "metadata": {},
   "outputs": [],
   "source": [
    "dailyDf['실적-계획'].unique()"
   ]
  },
  {
   "cell_type": "code",
   "execution_count": null,
   "metadata": {},
   "outputs": [],
   "source": [
    "plt.pie(dailyDf['실적-계획'].value_counts(), labels=dailyDf['실적-계획'].unique(),autopct='%1.1f%%', startangle=90, explode=(0.1,0,0))\n",
    "plt.title(\"계획발전량과 실적발전량 비교\")"
   ]
  }
 ],
 "metadata": {
  "kernelspec": {
   "display_name": "Python 3",
   "language": "python",
   "name": "python3"
  },
  "language_info": {
   "codemirror_mode": {
    "name": "ipython",
    "version": 3
   },
   "file_extension": ".py",
   "mimetype": "text/x-python",
   "name": "python",
   "nbconvert_exporter": "python",
   "pygments_lexer": "ipython3",
   "version": "3.8.16"
  },
  "orig_nbformat": 4
 },
 "nbformat": 4,
 "nbformat_minor": 2
}
