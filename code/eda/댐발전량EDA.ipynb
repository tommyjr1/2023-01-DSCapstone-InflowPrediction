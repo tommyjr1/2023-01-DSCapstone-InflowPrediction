{
 "cells": [
  {
   "cell_type": "code",
   "execution_count": null,
   "metadata": {},
   "outputs": [],
   "source": [
    "import pandas as pd\n",
    "import numpy as np\n",
    "import matplotlib.pyplot as plt\n",
    "from matplotlib import rc\n",
    "import seaborn as sns\n",
    "import datetime\n",
    "from glob import glob\n",
    "from sklearn.preprocessing import MinMaxScaler\n",
    "scaler = MinMaxScaler()\n"
   ]
  },
  {
   "cell_type": "code",
   "execution_count": null,
   "metadata": {},
   "outputs": [],
   "source": [
    "data = pd.read_csv(f'../data/data/합천_댐기상종합_forTrain.csv',\n",
    "                       encoding=\"utf-8-sig\", index_col=0)\n",
    "data.index = pd.to_datetime(data.index)\n",
    "data.head()\n"
   ]
  },
  {
   "cell_type": "code",
   "execution_count": null,
   "metadata": {},
   "outputs": [],
   "source": [
    "plt.rc('font', family='AppleGothic') \t\t\t## 이 두 줄을 \n",
    "plt.rcParams['axes.unicode_minus'] = False  ## 추가해줍니다. \n",
    "plt.rcParams['axes.grid'] = False"
   ]
  },
  {
   "cell_type": "code",
   "execution_count": null,
   "metadata": {},
   "outputs": [],
   "source": [
    "scaled_data = scaler.fit_transform(data)\n",
    "data = pd.DataFrame(\n",
    "    data=scaled_data, columns=df.columns, index=df.index.values)\n",
    "# data.reset_index(drop=True, inplace=True)\n"
   ]
  },
  {
   "cell_type": "code",
   "execution_count": null,
   "metadata": {},
   "outputs": [],
   "source": [
    "datax = data.drop([\"당일유입량\"], axis=1)\n",
    "datay = data[['당일유입량']]"
   ]
  },
  {
   "cell_type": "code",
   "execution_count": null,
   "metadata": {},
   "outputs": [],
   "source": [
    "import statsmodels.api as sm\n",
    "\n",
    "datax = sm.add_constant(datax)\n",
    "model = sm.OLS(datay, datax).fit()\n",
    "print(model.summary())"
   ]
  },
  {
   "cell_type": "code",
   "execution_count": null,
   "metadata": {},
   "outputs": [],
   "source": [
    "import pandas as pd\n",
    "import statsmodels.api as sm\n",
    "import matplotlib.pyplot as plt\n",
    " \n",
    "df = data.copy()\n",
    "## 전진 단계별 선택법\n",
    "# variables = df.columns[:-2].tolist() ## 설명 변수 리스트\n",
    "variables = datax.columns[1:].tolist()\n",
    " \n",
    "# y = df['Survival_Time'] ## 반응 변수\n",
    "y=datay.copy()\n",
    "selected_variables = [] ## 선택된 변수들\n",
    "sl_enter = 0.05\n",
    "sl_remove = 0.05\n",
    " \n",
    "sv_per_step = [] ## 각 스텝별로 선택된 변수들\n",
    "adjusted_r_squared = [] ## 각 스텝별 수정된 결정계수\n",
    "steps = [] ## 스텝\n",
    "step = 0\n",
    "while len(variables) > 0:\n",
    "    remainder = list(set(variables) - set(selected_variables))\n",
    "    pval = pd.Series(index=remainder) ## 변수의 p-value\n",
    "    ## 기존에 포함된 변수와 새로운 변수 하나씩 돌아가면서 \n",
    "    ## 선형 모형을 적합한다.\n",
    "    for col in remainder: \n",
    "        X = df[selected_variables+[col]]\n",
    "        X = sm.add_constant(X)\n",
    "        model = sm.OLS(y,X).fit()\n",
    "        pval[col] = model.pvalues[col]\n",
    " \n",
    "    min_pval = pval.min()\n",
    "    if min_pval < sl_enter: ## 최소 p-value 값이 기준 값보다 작으면 포함\n",
    "        selected_variables.append(pval.idxmin())\n",
    "        ## 선택된 변수들에대해서\n",
    "        ## 어떤 변수를 제거할지 고른다.\n",
    "        while len(selected_variables) > 0:\n",
    "            selected_X = df[selected_variables]\n",
    "            selected_X = sm.add_constant(selected_X)\n",
    "            selected_pval = sm.OLS(y,selected_X).fit().pvalues[1:] ## 절편항의 p-value는 뺀다\n",
    "            max_pval = selected_pval.max()\n",
    "            if max_pval >= sl_remove: ## 최대 p-value값이 기준값보다 크거나 같으면 제외\n",
    "                remove_variable = selected_pval.idxmax()\n",
    "                selected_variables.remove(remove_variable)\n",
    "            else:\n",
    "                break\n",
    "        \n",
    "        step += 1\n",
    "        steps.append(step)\n",
    "        adj_r_squared = sm.OLS(y,sm.add_constant(df[selected_variables])).fit().rsquared_adj\n",
    "        adjusted_r_squared.append(adj_r_squared)\n",
    "        sv_per_step.append(selected_variables.copy())\n",
    "    else:\n",
    "        break\n",
    "fig = plt.figure(figsize=(10,10))\n",
    "fig.set_facecolor('white')\n",
    " \n",
    "font_size = 5\n",
    "plt.xticks(steps,[f'step {s}\\n'+'\\n'.join(sv_per_step[i]) for i,s in enumerate(steps)], fontsize=12)\n",
    "plt.plot(steps,adjusted_r_squared, marker='o')\n",
    "    \n",
    "plt.ylabel('Adjusted R Squared',fontsize=font_size)\n",
    "plt.grid(True)\n",
    "plt.show()\n"
   ]
  },
  {
   "cell_type": "code",
   "execution_count": null,
   "metadata": {},
   "outputs": [],
   "source": [
    "selected_variables"
   ]
  },
  {
   "cell_type": "code",
   "execution_count": null,
   "metadata": {},
   "outputs": [],
   "source": [
    "newdf = datax[selected_variables]\n",
    "vif2 = pd.DataFrame()\n",
    "vif2[\"VIF Factor\"] = [format(variance_inflation_factor(\n",
    "    newdf.values, i),'f') for i in range(newdf.shape[1])]\n",
    "vif2[\"features\"] = newdf.columns\n",
    "vif2.sort_values(\"VIF Factor\")\n"
   ]
  },
  {
   "cell_type": "code",
   "execution_count": null,
   "metadata": {},
   "outputs": [],
   "source": [
    "fd = newdf.drop(['저수량(현재)','저수량(예년)','이슬점온도(°C)','지면온도(°C)','저수위(예년)','증기압(hPa)','현지기압(hPa)','기온(°C)','저수량변화'], axis=1)\n",
    "vif2 = pd.DataFrame()\n",
    "vif2[\"VIF Factor\"] = [format(variance_inflation_factor(\n",
    "    fd.values, i),'f') for i in range(fd.shape[1])]\n",
    "vif2[\"features\"] = fd.columns\n",
    "vif2.sort_values(\"VIF Factor\")\n",
    "\n"
   ]
  },
  {
   "cell_type": "code",
   "execution_count": null,
   "metadata": {},
   "outputs": [],
   "source": [
    "vif2['features'].values"
   ]
  },
  {
   "cell_type": "code",
   "execution_count": null,
   "metadata": {},
   "outputs": [],
   "source": [
    "dfc = data.corr()\n",
    "plt.rcParams[\"figure.figsize\"] = (20,20)\n",
    "\n",
    "mask = np.zeros_like(dfc, dtype=np.bool)\n",
    "mask[np.triu_indices_from(mask)] = True\n",
    "\n",
    "# 히트맵을 그린다\n",
    "sns.heatmap(dfc, \n",
    "            cmap = 'RdYlBu_r', \n",
    "            annot = True,   # 실제 값을 표시한다\n",
    "            mask=mask,      # 표시하지 않을 마스크 부분을 지정한다\n",
    "            linewidths=.5,  # 경계면 실선으로 구분하기\n",
    "            cbar_kws={\"shrink\": .5},# 컬러바 크기 절반으로 줄이기\n",
    "            vmin = -1,vmax = 1   # 컬러바 범위 -1 ~ 1\n",
    "           )  \n",
    "plt.show()"
   ]
  },
  {
   "cell_type": "code",
   "execution_count": null,
   "metadata": {},
   "outputs": [],
   "source": [
    "plt.rcParams[\"figure.figsize\"] = (20,20)\n",
    "sns.pairplot(data,corner=True)"
   ]
  },
  {
   "cell_type": "code",
   "execution_count": null,
   "metadata": {},
   "outputs": [],
   "source": [
    "data = pd.read_csv(f'../data/data/합천_댐기상종합_forTrain4_scaled.csv',\n",
    "                       encoding=\"utf-8-sig\", index_col=0)\n",
    "# data.index = pd.to_datetime(data.index)\n",
    "data.head()"
   ]
  },
  {
   "cell_type": "code",
   "execution_count": null,
   "metadata": {},
   "outputs": [],
   "source": [
    "from statsmodels.graphics.tsaplots import plot_acf\n",
    "plot_acf(data.전일유입량.diff())"
   ]
  },
  {
   "cell_type": "code",
   "execution_count": null,
   "metadata": {},
   "outputs": [],
   "source": [
    "\n",
    "sns.lineplot(dailyDf, x=dailyDf.index, y='전일유입량')\n",
    "# sns.lineplot(dailyDf, x='시간', y='발전량(실적)', label=\"실적량\")\n",
    "plt.ylabel(\"(mm)\")\n",
    "plt.title(\"전체 전일유입량\")"
   ]
  },
  {
   "cell_type": "code",
   "execution_count": null,
   "metadata": {},
   "outputs": [],
   "source": [
    "# plot with 2 different axes for a dataset with different scales\n",
    "# left side\n",
    "\n",
    "fig, ax1 = plt.subplots()\n",
    "fig = plt.figure(figsize=(56,9))\n",
    "plt.rcParams[\"figure.figsize\"] = (14,4)\n",
    "\n",
    "\n",
    "color_1 = 'tab:blue'\n",
    "ax1.set_title('실적 발전량과 계획대비 발전률')\n",
    "ax1.set_ylabel('실적발전량', color=color_1)\n",
    "ax1.plot(dailyDf.index, dailyDf['발전량(실적)'], color=color_1)\n",
    "ax1.tick_params(axis='y', labelcolor=color_1)\n",
    "\n",
    "# right side with different scale\n",
    "ax2 = ax1.twinx() # instantiate a second axes that shares the same x-axis\n",
    "color_2 = 'tab:red'\n",
    "ax2.set_ylabel('계획대비 발전률', color=color_2)\n",
    "ax2.plot(dailyDf.index, dailyDf['발전량(계획대비)'],  color=color_2)\n",
    "ax2.tick_params(axis='y', labelcolor=color_2)\n",
    "\n",
    "\n",
    "fig.tight_layout()\n",
    "plt.show()"
   ]
  },
  {
   "cell_type": "code",
   "execution_count": null,
   "metadata": {},
   "outputs": [],
   "source": [
    "sns.lineplot((dailyDf['발전량(실적)']-dailyDf['발전량(계획)']))\n",
    "plt.title(\"전체 실적발전량-계획발전량\")\n",
    "plt.ylabel('(MwH)')\n",
    "plt.axhline(0)"
   ]
  },
  {
   "cell_type": "code",
   "execution_count": null,
   "metadata": {},
   "outputs": [],
   "source": [
    "dailyDf['실적-계획'] = np.where((dailyDf['발전량(실적)']-dailyDf['발전량(계획)'])>=0 , '초과' , '부족')\n",
    "dailyDf['실적-계획'] = np.where((dailyDf['발전량(실적)']-dailyDf['발전량(계획)'])==0 , '적절계획' , dailyDf['실적-계획'])\n",
    "\n"
   ]
  },
  {
   "cell_type": "code",
   "execution_count": null,
   "metadata": {},
   "outputs": [],
   "source": [
    "df2016 = dailyDf['2016-01-01 00:00:00': '2017-01-01 00:00:00']\n",
    "df2017 = dailyDf['2017-01-01 00:00:00': '2018-01-01 00:00:00']\n",
    "df2018 = dailyDf['2018-01-01 00:00:00': '2019-01-01 00:00:00']\n",
    "df2019 = dailyDf['2019-01-01 00:00:00': '2020-01-01 00:00:00']\n",
    "df2020 = dailyDf['2020-01-01 00:00:00': '2021-01-01 00:00:00']\n",
    "df2021 = dailyDf['2021-01-01 00:00:00': '2022-01-01 00:00:00']\n",
    "\n"
   ]
  },
  {
   "cell_type": "code",
   "execution_count": null,
   "metadata": {},
   "outputs": [],
   "source": [
    "plt.figure(figsize=(20,15))\n",
    "plt.title('16-21 전일유입량')\n",
    "\n",
    "plt.subplot(3,2,1)\n",
    "plt.plot(df2016.index, df2016['전일유입량'])\n",
    "plt.title('2016')\n",
    "\n",
    "plt.subplot(3,2,2)\n",
    "plt.plot(df2017.index, df2017['전일유입량'])\n",
    "plt.title('2017')\n",
    "\n",
    "plt.subplot(3,2,3)\n",
    "plt.plot(df2018.index, df2018['전일유입량'])\n",
    "plt.title('2018')\n",
    "\n",
    "plt.subplot(3,2,4)\n",
    "plt.plot(df2019.index, df2019['전일유입량'])\n",
    "plt.title('2019')\n",
    "\n",
    "plt.subplot(3,2,5)\n",
    "plt.plot(df2020.index, df2020['전일유입량'])\n",
    "plt.title('2020')\n",
    "\n",
    "plt.subplot(3,2,6)\n",
    "plt.plot(df2021.index, df2021['전일유입량'])\n",
    "plt.title('2021')\n",
    "\n"
   ]
  },
  {
   "cell_type": "code",
   "execution_count": null,
   "metadata": {},
   "outputs": [],
   "source": [
    "dailyDf['실적-계획'].unique()"
   ]
  },
  {
   "cell_type": "code",
   "execution_count": null,
   "metadata": {},
   "outputs": [],
   "source": [
    "plt.pie(dailyDf['실적-계획'].value_counts(), labels=dailyDf['실적-계획'].unique(),autopct='%1.1f%%', startangle=90, explode=(0.1,0,0))\n",
    "plt.title(\"계획발전량과 실적발전량 비교\")"
   ]
  }
 ],
 "metadata": {
  "kernelspec": {
   "display_name": "Python 3",
   "language": "python",
   "name": "python3"
  },
  "language_info": {
   "codemirror_mode": {
    "name": "ipython",
    "version": 3
   },
   "file_extension": ".py",
   "mimetype": "text/x-python",
   "name": "python",
   "nbconvert_exporter": "python",
   "pygments_lexer": "ipython3",
   "version": "3.8.16"
  },
  "orig_nbformat": 4
 },
 "nbformat": 4,
 "nbformat_minor": 2
}
