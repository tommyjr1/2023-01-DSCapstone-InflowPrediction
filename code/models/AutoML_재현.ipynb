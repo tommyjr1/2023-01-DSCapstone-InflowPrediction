{
 "cells": [
  {
   "cell_type": "code",
   "execution_count": 1,
   "metadata": {},
   "outputs": [],
   "source": [
    "import numpy as np\n",
    "import pandas as pd\n",
    "from sklearn.preprocessing import MinMaxScaler\n",
    "import h2o\n",
    "from h2o.automl import H2OAutoML\n",
    "from h2o.estimators.gbm import H2OGradientBoostingEstimator\n",
    "from trainlib import lagndelay, scale, split\n",
    "from scipy import stats\n",
    "\n",
    "\n",
    "%matplotlib inline"
   ]
  },
  {
   "cell_type": "code",
   "execution_count": 2,
   "metadata": {},
   "outputs": [
    {
     "data": {
      "text/html": [
       "<div>\n",
       "<style scoped>\n",
       "    .dataframe tbody tr th:only-of-type {\n",
       "        vertical-align: middle;\n",
       "    }\n",
       "\n",
       "    .dataframe tbody tr th {\n",
       "        vertical-align: top;\n",
       "    }\n",
       "\n",
       "    .dataframe thead th {\n",
       "        text-align: right;\n",
       "    }\n",
       "</style>\n",
       "<table border=\"1\" class=\"dataframe\">\n",
       "  <thead>\n",
       "    <tr style=\"text-align: right;\">\n",
       "      <th></th>\n",
       "      <th>증기압(hPa)</th>\n",
       "      <th>강수량(mm)</th>\n",
       "      <th>1일후강수량</th>\n",
       "      <th>풍속(m/s)</th>\n",
       "      <th>cos_week_of_year</th>\n",
       "      <th>저수량(현재)</th>\n",
       "      <th>시정(10m)</th>\n",
       "      <th>sin_month</th>\n",
       "      <th>최저운고(100m )</th>\n",
       "    </tr>\n",
       "  </thead>\n",
       "  <tbody>\n",
       "    <tr>\n",
       "      <th>0</th>\n",
       "      <td>0.134666</td>\n",
       "      <td>0.000000</td>\n",
       "      <td>0.000000</td>\n",
       "      <td>0.191473</td>\n",
       "      <td>1.000000</td>\n",
       "      <td>0.582062</td>\n",
       "      <td>0.310185</td>\n",
       "      <td>0.5</td>\n",
       "      <td>0.114754</td>\n",
       "    </tr>\n",
       "    <tr>\n",
       "      <th>1</th>\n",
       "      <td>0.178363</td>\n",
       "      <td>0.000000</td>\n",
       "      <td>0.000000</td>\n",
       "      <td>0.240090</td>\n",
       "      <td>1.000000</td>\n",
       "      <td>0.580077</td>\n",
       "      <td>0.256145</td>\n",
       "      <td>0.5</td>\n",
       "      <td>0.114754</td>\n",
       "    </tr>\n",
       "    <tr>\n",
       "      <th>2</th>\n",
       "      <td>0.083422</td>\n",
       "      <td>0.000000</td>\n",
       "      <td>0.000000</td>\n",
       "      <td>0.150337</td>\n",
       "      <td>0.996354</td>\n",
       "      <td>0.576244</td>\n",
       "      <td>0.345077</td>\n",
       "      <td>0.5</td>\n",
       "      <td>0.114754</td>\n",
       "    </tr>\n",
       "    <tr>\n",
       "      <th>3</th>\n",
       "      <td>0.075344</td>\n",
       "      <td>0.000000</td>\n",
       "      <td>0.005805</td>\n",
       "      <td>0.114435</td>\n",
       "      <td>0.996354</td>\n",
       "      <td>0.573911</td>\n",
       "      <td>0.314015</td>\n",
       "      <td>0.5</td>\n",
       "      <td>0.114754</td>\n",
       "    </tr>\n",
       "    <tr>\n",
       "      <th>4</th>\n",
       "      <td>0.132150</td>\n",
       "      <td>0.005805</td>\n",
       "      <td>0.031605</td>\n",
       "      <td>0.105460</td>\n",
       "      <td>0.996354</td>\n",
       "      <td>0.570909</td>\n",
       "      <td>0.246784</td>\n",
       "      <td>0.5</td>\n",
       "      <td>0.125293</td>\n",
       "    </tr>\n",
       "  </tbody>\n",
       "</table>\n",
       "</div>"
      ],
      "text/plain": [
       "   증기압(hPa)   강수량(mm)    1일후강수량   풍속(m/s)  cos_week_of_year   저수량(현재)   \n",
       "0  0.134666  0.000000  0.000000  0.191473          1.000000  0.582062  \\\n",
       "1  0.178363  0.000000  0.000000  0.240090          1.000000  0.580077   \n",
       "2  0.083422  0.000000  0.000000  0.150337          0.996354  0.576244   \n",
       "3  0.075344  0.000000  0.005805  0.114435          0.996354  0.573911   \n",
       "4  0.132150  0.005805  0.031605  0.105460          0.996354  0.570909   \n",
       "\n",
       "    시정(10m)  sin_month  최저운고(100m )  \n",
       "0  0.310185        0.5     0.114754  \n",
       "1  0.256145        0.5     0.114754  \n",
       "2  0.345077        0.5     0.114754  \n",
       "3  0.314015        0.5     0.114754  \n",
       "4  0.246784        0.5     0.125293  "
      ]
     },
     "execution_count": 2,
     "metadata": {},
     "output_type": "execute_result"
    }
   ],
   "source": [
    "#### 2. 데이터 불러오기 ####\n",
    "data_df = pd.read_csv(\"../data/data/합천_댐기상종합_forTrain4_scaled_notflood.csv\", index_col=0)\n",
    "data_df.head()"
   ]
  },
  {
   "cell_type": "code",
   "execution_count": 62,
   "metadata": {},
   "outputs": [
    {
     "name": "stderr",
     "output_type": "stream",
     "text": [
      "/Users/jewel/Documents/2023_1학기/정미나_데이터사이언스캡스톤/code/2023-01-DSCapstone-InflowPrediction/code/models/trainlib.py:10: PerformanceWarning: DataFrame is highly fragmented.  This is usually the result of calling `frame.insert` many times, which has poor performance.  Consider joining all columns at once using pd.concat(axis=1) instead. To get a de-fragmented frame, use `newframe = frame.copy()`\n",
      "  df[column + '_avg_window_length' + str(lag+1)] = df[column].shift(-1-(\n",
      "/Users/jewel/Documents/2023_1학기/정미나_데이터사이언스캡스톤/code/2023-01-DSCapstone-InflowPrediction/code/models/trainlib.py:9: PerformanceWarning: DataFrame is highly fragmented.  This is usually the result of calling `frame.insert` many times, which has poor performance.  Consider joining all columns at once using pd.concat(axis=1) instead. To get a de-fragmented frame, use `newframe = frame.copy()`\n",
      "  df[column + '_lag' + str(lag)] = df[column].shift(lag*-1-(delay-1))\n",
      "/Users/jewel/Documents/2023_1학기/정미나_데이터사이언스캡스톤/code/2023-01-DSCapstone-InflowPrediction/code/models/trainlib.py:10: PerformanceWarning: DataFrame is highly fragmented.  This is usually the result of calling `frame.insert` many times, which has poor performance.  Consider joining all columns at once using pd.concat(axis=1) instead. To get a de-fragmented frame, use `newframe = frame.copy()`\n",
      "  df[column + '_avg_window_length' + str(lag+1)] = df[column].shift(-1-(\n",
      "/Users/jewel/Documents/2023_1학기/정미나_데이터사이언스캡스톤/code/2023-01-DSCapstone-InflowPrediction/code/models/trainlib.py:9: PerformanceWarning: DataFrame is highly fragmented.  This is usually the result of calling `frame.insert` many times, which has poor performance.  Consider joining all columns at once using pd.concat(axis=1) instead. To get a de-fragmented frame, use `newframe = frame.copy()`\n",
      "  df[column + '_lag' + str(lag)] = df[column].shift(lag*-1-(delay-1))\n",
      "/Users/jewel/Documents/2023_1학기/정미나_데이터사이언스캡스톤/code/2023-01-DSCapstone-InflowPrediction/code/models/trainlib.py:10: PerformanceWarning: DataFrame is highly fragmented.  This is usually the result of calling `frame.insert` many times, which has poor performance.  Consider joining all columns at once using pd.concat(axis=1) instead. To get a de-fragmented frame, use `newframe = frame.copy()`\n",
      "  df[column + '_avg_window_length' + str(lag+1)] = df[column].shift(-1-(\n",
      "/Users/jewel/Documents/2023_1학기/정미나_데이터사이언스캡스톤/code/2023-01-DSCapstone-InflowPrediction/code/models/trainlib.py:9: PerformanceWarning: DataFrame is highly fragmented.  This is usually the result of calling `frame.insert` many times, which has poor performance.  Consider joining all columns at once using pd.concat(axis=1) instead. To get a de-fragmented frame, use `newframe = frame.copy()`\n",
      "  df[column + '_lag' + str(lag)] = df[column].shift(lag*-1-(delay-1))\n",
      "/Users/jewel/Documents/2023_1학기/정미나_데이터사이언스캡스톤/code/2023-01-DSCapstone-InflowPrediction/code/models/trainlib.py:10: PerformanceWarning: DataFrame is highly fragmented.  This is usually the result of calling `frame.insert` many times, which has poor performance.  Consider joining all columns at once using pd.concat(axis=1) instead. To get a de-fragmented frame, use `newframe = frame.copy()`\n",
      "  df[column + '_avg_window_length' + str(lag+1)] = df[column].shift(-1-(\n",
      "/Users/jewel/Documents/2023_1학기/정미나_데이터사이언스캡스톤/code/2023-01-DSCapstone-InflowPrediction/code/models/trainlib.py:9: PerformanceWarning: DataFrame is highly fragmented.  This is usually the result of calling `frame.insert` many times, which has poor performance.  Consider joining all columns at once using pd.concat(axis=1) instead. To get a de-fragmented frame, use `newframe = frame.copy()`\n",
      "  df[column + '_lag' + str(lag)] = df[column].shift(lag*-1-(delay-1))\n",
      "/Users/jewel/Documents/2023_1학기/정미나_데이터사이언스캡스톤/code/2023-01-DSCapstone-InflowPrediction/code/models/trainlib.py:10: PerformanceWarning: DataFrame is highly fragmented.  This is usually the result of calling `frame.insert` many times, which has poor performance.  Consider joining all columns at once using pd.concat(axis=1) instead. To get a de-fragmented frame, use `newframe = frame.copy()`\n",
      "  df[column + '_avg_window_length' + str(lag+1)] = df[column].shift(-1-(\n",
      "/Users/jewel/Documents/2023_1학기/정미나_데이터사이언스캡스톤/code/2023-01-DSCapstone-InflowPrediction/code/models/trainlib.py:9: PerformanceWarning: DataFrame is highly fragmented.  This is usually the result of calling `frame.insert` many times, which has poor performance.  Consider joining all columns at once using pd.concat(axis=1) instead. To get a de-fragmented frame, use `newframe = frame.copy()`\n",
      "  df[column + '_lag' + str(lag)] = df[column].shift(lag*-1-(delay-1))\n",
      "/Users/jewel/Documents/2023_1학기/정미나_데이터사이언스캡스톤/code/2023-01-DSCapstone-InflowPrediction/code/models/trainlib.py:10: PerformanceWarning: DataFrame is highly fragmented.  This is usually the result of calling `frame.insert` many times, which has poor performance.  Consider joining all columns at once using pd.concat(axis=1) instead. To get a de-fragmented frame, use `newframe = frame.copy()`\n",
      "  df[column + '_avg_window_length' + str(lag+1)] = df[column].shift(-1-(\n",
      "/Users/jewel/Documents/2023_1학기/정미나_데이터사이언스캡스톤/code/2023-01-DSCapstone-InflowPrediction/code/models/trainlib.py:9: PerformanceWarning: DataFrame is highly fragmented.  This is usually the result of calling `frame.insert` many times, which has poor performance.  Consider joining all columns at once using pd.concat(axis=1) instead. To get a de-fragmented frame, use `newframe = frame.copy()`\n",
      "  df[column + '_lag' + str(lag)] = df[column].shift(lag*-1-(delay-1))\n",
      "/Users/jewel/Documents/2023_1학기/정미나_데이터사이언스캡스톤/code/2023-01-DSCapstone-InflowPrediction/code/models/trainlib.py:10: PerformanceWarning: DataFrame is highly fragmented.  This is usually the result of calling `frame.insert` many times, which has poor performance.  Consider joining all columns at once using pd.concat(axis=1) instead. To get a de-fragmented frame, use `newframe = frame.copy()`\n",
      "  df[column + '_avg_window_length' + str(lag+1)] = df[column].shift(-1-(\n",
      "/Users/jewel/Documents/2023_1학기/정미나_데이터사이언스캡스톤/code/2023-01-DSCapstone-InflowPrediction/code/models/trainlib.py:9: PerformanceWarning: DataFrame is highly fragmented.  This is usually the result of calling `frame.insert` many times, which has poor performance.  Consider joining all columns at once using pd.concat(axis=1) instead. To get a de-fragmented frame, use `newframe = frame.copy()`\n",
      "  df[column + '_lag' + str(lag)] = df[column].shift(lag*-1-(delay-1))\n",
      "/Users/jewel/Documents/2023_1학기/정미나_데이터사이언스캡스톤/code/2023-01-DSCapstone-InflowPrediction/code/models/trainlib.py:10: PerformanceWarning: DataFrame is highly fragmented.  This is usually the result of calling `frame.insert` many times, which has poor performance.  Consider joining all columns at once using pd.concat(axis=1) instead. To get a de-fragmented frame, use `newframe = frame.copy()`\n",
      "  df[column + '_avg_window_length' + str(lag+1)] = df[column].shift(-1-(\n",
      "/Users/jewel/Documents/2023_1학기/정미나_데이터사이언스캡스톤/code/2023-01-DSCapstone-InflowPrediction/code/models/trainlib.py:9: PerformanceWarning: DataFrame is highly fragmented.  This is usually the result of calling `frame.insert` many times, which has poor performance.  Consider joining all columns at once using pd.concat(axis=1) instead. To get a de-fragmented frame, use `newframe = frame.copy()`\n",
      "  df[column + '_lag' + str(lag)] = df[column].shift(lag*-1-(delay-1))\n",
      "/Users/jewel/Documents/2023_1학기/정미나_데이터사이언스캡스톤/code/2023-01-DSCapstone-InflowPrediction/code/models/trainlib.py:10: PerformanceWarning: DataFrame is highly fragmented.  This is usually the result of calling `frame.insert` many times, which has poor performance.  Consider joining all columns at once using pd.concat(axis=1) instead. To get a de-fragmented frame, use `newframe = frame.copy()`\n",
      "  df[column + '_avg_window_length' + str(lag+1)] = df[column].shift(-1-(\n",
      "/Users/jewel/Documents/2023_1학기/정미나_데이터사이언스캡스톤/code/2023-01-DSCapstone-InflowPrediction/code/models/trainlib.py:9: PerformanceWarning: DataFrame is highly fragmented.  This is usually the result of calling `frame.insert` many times, which has poor performance.  Consider joining all columns at once using pd.concat(axis=1) instead. To get a de-fragmented frame, use `newframe = frame.copy()`\n",
      "  df[column + '_lag' + str(lag)] = df[column].shift(lag*-1-(delay-1))\n",
      "/Users/jewel/Documents/2023_1학기/정미나_데이터사이언스캡스톤/code/2023-01-DSCapstone-InflowPrediction/code/models/trainlib.py:10: PerformanceWarning: DataFrame is highly fragmented.  This is usually the result of calling `frame.insert` many times, which has poor performance.  Consider joining all columns at once using pd.concat(axis=1) instead. To get a de-fragmented frame, use `newframe = frame.copy()`\n",
      "  df[column + '_avg_window_length' + str(lag+1)] = df[column].shift(-1-(\n",
      "/Users/jewel/Documents/2023_1학기/정미나_데이터사이언스캡스톤/code/2023-01-DSCapstone-InflowPrediction/code/models/trainlib.py:9: PerformanceWarning: DataFrame is highly fragmented.  This is usually the result of calling `frame.insert` many times, which has poor performance.  Consider joining all columns at once using pd.concat(axis=1) instead. To get a de-fragmented frame, use `newframe = frame.copy()`\n",
      "  df[column + '_lag' + str(lag)] = df[column].shift(lag*-1-(delay-1))\n",
      "/Users/jewel/Documents/2023_1학기/정미나_데이터사이언스캡스톤/code/2023-01-DSCapstone-InflowPrediction/code/models/trainlib.py:10: PerformanceWarning: DataFrame is highly fragmented.  This is usually the result of calling `frame.insert` many times, which has poor performance.  Consider joining all columns at once using pd.concat(axis=1) instead. To get a de-fragmented frame, use `newframe = frame.copy()`\n",
      "  df[column + '_avg_window_length' + str(lag+1)] = df[column].shift(-1-(\n"
     ]
    }
   ],
   "source": [
    "df2 = data_df.copy()\n",
    "num_lags = 10 # number of lags and window lenghts for mean aggregation\n",
    "delay = 3 # predict target five steps ahead\n",
    "y = '당일유입량'\n",
    "df_processed = lagndelay(num_lags, delay, df2, y)"
   ]
  },
  {
   "cell_type": "code",
   "execution_count": 63,
   "metadata": {},
   "outputs": [],
   "source": [
    "df_train, df_test = split(0.8, df_processed)"
   ]
  },
  {
   "cell_type": "code",
   "execution_count": 64,
   "metadata": {},
   "outputs": [
    {
     "name": "stdout",
     "output_type": "stream",
     "text": [
      "Checking whether there is an H2O instance running at http://localhost:54323. connected.\n"
     ]
    },
    {
     "data": {
      "text/html": [
       "\n",
       "<style>\n",
       "\n",
       "#h2o-table-6.h2o-container {\n",
       "  overflow-x: auto;\n",
       "}\n",
       "#h2o-table-6 .h2o-table {\n",
       "  /* width: 100%; */\n",
       "  margin-top: 1em;\n",
       "  margin-bottom: 1em;\n",
       "}\n",
       "#h2o-table-6 .h2o-table caption {\n",
       "  white-space: nowrap;\n",
       "  caption-side: top;\n",
       "  text-align: left;\n",
       "  /* margin-left: 1em; */\n",
       "  margin: 0;\n",
       "  font-size: larger;\n",
       "}\n",
       "#h2o-table-6 .h2o-table thead {\n",
       "  white-space: nowrap; \n",
       "  position: sticky;\n",
       "  top: 0;\n",
       "  box-shadow: 0 -1px inset;\n",
       "}\n",
       "#h2o-table-6 .h2o-table tbody {\n",
       "  overflow: auto;\n",
       "}\n",
       "#h2o-table-6 .h2o-table th,\n",
       "#h2o-table-6 .h2o-table td {\n",
       "  text-align: right;\n",
       "  /* border: 1px solid; */\n",
       "}\n",
       "#h2o-table-6 .h2o-table tr:nth-child(even) {\n",
       "  /* background: #F5F5F5 */\n",
       "}\n",
       "\n",
       "</style>      \n",
       "<div id=\"h2o-table-6\" class=\"h2o-container\">\n",
       "  <table class=\"h2o-table\">\n",
       "    <caption></caption>\n",
       "    <thead></thead>\n",
       "    <tbody><tr><td>H2O_cluster_uptime:</td>\n",
       "<td>1 hour 57 mins</td></tr>\n",
       "<tr><td>H2O_cluster_timezone:</td>\n",
       "<td>Asia/Seoul</td></tr>\n",
       "<tr><td>H2O_data_parsing_timezone:</td>\n",
       "<td>UTC</td></tr>\n",
       "<tr><td>H2O_cluster_version:</td>\n",
       "<td>3.40.0.4</td></tr>\n",
       "<tr><td>H2O_cluster_version_age:</td>\n",
       "<td>1 month and 1 day</td></tr>\n",
       "<tr><td>H2O_cluster_name:</td>\n",
       "<td>H2O_from_python_jewel_9nwifc</td></tr>\n",
       "<tr><td>H2O_cluster_total_nodes:</td>\n",
       "<td>1</td></tr>\n",
       "<tr><td>H2O_cluster_free_memory:</td>\n",
       "<td>6.503 Gb</td></tr>\n",
       "<tr><td>H2O_cluster_total_cores:</td>\n",
       "<td>12</td></tr>\n",
       "<tr><td>H2O_cluster_allowed_cores:</td>\n",
       "<td>12</td></tr>\n",
       "<tr><td>H2O_cluster_status:</td>\n",
       "<td>locked, healthy</td></tr>\n",
       "<tr><td>H2O_connection_url:</td>\n",
       "<td>http://localhost:54323</td></tr>\n",
       "<tr><td>H2O_connection_proxy:</td>\n",
       "<td>{\"http\": null, \"https\": null}</td></tr>\n",
       "<tr><td>H2O_internal_security:</td>\n",
       "<td>False</td></tr>\n",
       "<tr><td>Python_version:</td>\n",
       "<td>3.8.16 final</td></tr></tbody>\n",
       "  </table>\n",
       "</div>\n"
      ],
      "text/plain": [
       "--------------------------  -----------------------------\n",
       "H2O_cluster_uptime:         1 hour 57 mins\n",
       "H2O_cluster_timezone:       Asia/Seoul\n",
       "H2O_data_parsing_timezone:  UTC\n",
       "H2O_cluster_version:        3.40.0.4\n",
       "H2O_cluster_version_age:    1 month and 1 day\n",
       "H2O_cluster_name:           H2O_from_python_jewel_9nwifc\n",
       "H2O_cluster_total_nodes:    1\n",
       "H2O_cluster_free_memory:    6.503 Gb\n",
       "H2O_cluster_total_cores:    12\n",
       "H2O_cluster_allowed_cores:  12\n",
       "H2O_cluster_status:         locked, healthy\n",
       "H2O_connection_url:         http://localhost:54323\n",
       "H2O_connection_proxy:       {\"http\": null, \"https\": null}\n",
       "H2O_internal_security:      False\n",
       "Python_version:             3.8.16 final\n",
       "--------------------------  -----------------------------"
      ]
     },
     "metadata": {},
     "output_type": "display_data"
    }
   ],
   "source": [
    "h2o.init(ip=\"localhost\", port=54323, nthreads=-1)\n",
    "h2o.no_progress()"
   ]
  },
  {
   "cell_type": "code",
   "execution_count": 65,
   "metadata": {},
   "outputs": [],
   "source": [
    "hf_train = h2o.H2OFrame(df_train)\n",
    "hf_test = h2o.H2OFrame(df_test)\n",
    "X = hf_train.columns\n",
    "X.remove(y)"
   ]
  },
  {
   "cell_type": "code",
   "execution_count": 66,
   "metadata": {},
   "outputs": [
    {
     "data": {
      "text/html": [
       "<table class='dataframe'>\n",
       "<thead>\n",
       "<tr><th>model_id                                               </th><th style=\"text-align: right;\">     rmse</th><th style=\"text-align: right;\">       mse</th><th style=\"text-align: right;\">       mae</th><th style=\"text-align: right;\">    rmsle</th><th style=\"text-align: right;\">  mean_residual_deviance</th></tr>\n",
       "</thead>\n",
       "<tbody>\n",
       "<tr><td>GBM_grid_1_AutoML_6_20230529_151253_model_27           </td><td style=\"text-align: right;\">0.0343237</td><td style=\"text-align: right;\">0.00117811</td><td style=\"text-align: right;\">0.00954026</td><td style=\"text-align: right;\">0.0275002</td><td style=\"text-align: right;\">              0.00117811</td></tr>\n",
       "<tr><td>XGBoost_grid_1_AutoML_6_20230529_151253_model_6        </td><td style=\"text-align: right;\">0.0343954</td><td style=\"text-align: right;\">0.00118304</td><td style=\"text-align: right;\">0.0099425 </td><td style=\"text-align: right;\">0.0276408</td><td style=\"text-align: right;\">              0.00118304</td></tr>\n",
       "<tr><td>GBM_grid_1_AutoML_6_20230529_151253_model_18           </td><td style=\"text-align: right;\">0.0345433</td><td style=\"text-align: right;\">0.00119324</td><td style=\"text-align: right;\">0.00955686</td><td style=\"text-align: right;\">0.0279512</td><td style=\"text-align: right;\">              0.00119324</td></tr>\n",
       "<tr><td>GBM_1_AutoML_6_20230529_151253                         </td><td style=\"text-align: right;\">0.0345832</td><td style=\"text-align: right;\">0.001196  </td><td style=\"text-align: right;\">0.00998053</td><td style=\"text-align: right;\">0.0277015</td><td style=\"text-align: right;\">              0.001196  </td></tr>\n",
       "<tr><td>GBM_grid_1_AutoML_6_20230529_151253_model_50           </td><td style=\"text-align: right;\">0.0346167</td><td style=\"text-align: right;\">0.00119832</td><td style=\"text-align: right;\">0.00954524</td><td style=\"text-align: right;\">0.0276522</td><td style=\"text-align: right;\">              0.00119832</td></tr>\n",
       "<tr><td>GBM_grid_1_AutoML_6_20230529_151253_model_33           </td><td style=\"text-align: right;\">0.0346448</td><td style=\"text-align: right;\">0.00120026</td><td style=\"text-align: right;\">0.00872469</td><td style=\"text-align: right;\">0.0275829</td><td style=\"text-align: right;\">              0.00120026</td></tr>\n",
       "<tr><td>StackedEnsemble_BestOfFamily_4_AutoML_6_20230529_151253</td><td style=\"text-align: right;\">0.0347038</td><td style=\"text-align: right;\">0.00120435</td><td style=\"text-align: right;\">0.0102404 </td><td style=\"text-align: right;\">0.028107 </td><td style=\"text-align: right;\">              0.00120435</td></tr>\n",
       "<tr><td>GBM_grid_1_AutoML_6_20230529_151253_model_43           </td><td style=\"text-align: right;\">0.034745 </td><td style=\"text-align: right;\">0.00120722</td><td style=\"text-align: right;\">0.0100033 </td><td style=\"text-align: right;\">0.0277648</td><td style=\"text-align: right;\">              0.00120722</td></tr>\n",
       "<tr><td>GBM_grid_1_AutoML_6_20230529_151253_model_19           </td><td style=\"text-align: right;\">0.0347658</td><td style=\"text-align: right;\">0.00120866</td><td style=\"text-align: right;\">0.00979203</td><td style=\"text-align: right;\">0.0279412</td><td style=\"text-align: right;\">              0.00120866</td></tr>\n",
       "<tr><td>GBM_grid_1_AutoML_6_20230529_151253_model_6            </td><td style=\"text-align: right;\">0.0347712</td><td style=\"text-align: right;\">0.00120904</td><td style=\"text-align: right;\">0.0103367 </td><td style=\"text-align: right;\">0.0278127</td><td style=\"text-align: right;\">              0.00120904</td></tr>\n",
       "</tbody>\n",
       "</table><pre style='font-size: smaller; margin-bottom: 1em;'>[97 rows x 6 columns]</pre>"
      ],
      "text/plain": [
       "model_id                                                      rmse         mse         mae      rmsle    mean_residual_deviance\n",
       "-------------------------------------------------------  ---------  ----------  ----------  ---------  ------------------------\n",
       "GBM_grid_1_AutoML_6_20230529_151253_model_27             0.0343237  0.00117811  0.00954026  0.0275002                0.00117811\n",
       "XGBoost_grid_1_AutoML_6_20230529_151253_model_6          0.0343954  0.00118304  0.0099425   0.0276408                0.00118304\n",
       "GBM_grid_1_AutoML_6_20230529_151253_model_18             0.0345433  0.00119324  0.00955686  0.0279512                0.00119324\n",
       "GBM_1_AutoML_6_20230529_151253                           0.0345832  0.001196    0.00998053  0.0277015                0.001196\n",
       "GBM_grid_1_AutoML_6_20230529_151253_model_50             0.0346167  0.00119832  0.00954524  0.0276522                0.00119832\n",
       "GBM_grid_1_AutoML_6_20230529_151253_model_33             0.0346448  0.00120026  0.00872469  0.0275829                0.00120026\n",
       "StackedEnsemble_BestOfFamily_4_AutoML_6_20230529_151253  0.0347038  0.00120435  0.0102404   0.028107                 0.00120435\n",
       "GBM_grid_1_AutoML_6_20230529_151253_model_43             0.034745   0.00120722  0.0100033   0.0277648                0.00120722\n",
       "GBM_grid_1_AutoML_6_20230529_151253_model_19             0.0347658  0.00120866  0.00979203  0.0279412                0.00120866\n",
       "GBM_grid_1_AutoML_6_20230529_151253_model_6              0.0347712  0.00120904  0.0103367   0.0278127                0.00120904\n",
       "[97 rows x 6 columns]\n"
      ]
     },
     "execution_count": 66,
     "metadata": {},
     "output_type": "execute_result"
    }
   ],
   "source": [
    "aml = H2OAutoML(max_runtime_secs = 600,\n",
    "                seed = 42)\n",
    "aml.train(x = X, \n",
    "          y = y,\n",
    "          training_frame = hf_train,\n",
    "          leaderboard_frame = hf_test)\n",
    "lb = aml.leaderboard\n",
    "lb"
   ]
  },
  {
   "cell_type": "code",
   "execution_count": 67,
   "metadata": {},
   "outputs": [
    {
     "data": {
      "text/html": [
       "<div>\n",
       "<style scoped>\n",
       "    .dataframe tbody tr th:only-of-type {\n",
       "        vertical-align: middle;\n",
       "    }\n",
       "\n",
       "    .dataframe tbody tr th {\n",
       "        vertical-align: top;\n",
       "    }\n",
       "\n",
       "    .dataframe thead th {\n",
       "        text-align: right;\n",
       "    }\n",
       "</style>\n",
       "<table border=\"1\" class=\"dataframe\">\n",
       "  <thead>\n",
       "    <tr style=\"text-align: right;\">\n",
       "      <th></th>\n",
       "      <th>ground_truth</th>\n",
       "      <th>predictions</th>\n",
       "    </tr>\n",
       "  </thead>\n",
       "  <tbody>\n",
       "    <tr>\n",
       "      <th>0</th>\n",
       "      <td>0.001897</td>\n",
       "      <td>0.007113</td>\n",
       "    </tr>\n",
       "    <tr>\n",
       "      <th>1</th>\n",
       "      <td>0.000896</td>\n",
       "      <td>0.010143</td>\n",
       "    </tr>\n",
       "    <tr>\n",
       "      <th>2</th>\n",
       "      <td>0.001634</td>\n",
       "      <td>0.002138</td>\n",
       "    </tr>\n",
       "    <tr>\n",
       "      <th>3</th>\n",
       "      <td>0.000896</td>\n",
       "      <td>0.009232</td>\n",
       "    </tr>\n",
       "    <tr>\n",
       "      <th>4</th>\n",
       "      <td>0.000158</td>\n",
       "      <td>0.006325</td>\n",
       "    </tr>\n",
       "  </tbody>\n",
       "</table>\n",
       "</div>"
      ],
      "text/plain": [
       "   ground_truth  predictions\n",
       "0      0.001897     0.007113\n",
       "1      0.000896     0.010143\n",
       "2      0.001634     0.002138\n",
       "3      0.000896     0.009232\n",
       "4      0.000158     0.006325"
      ]
     },
     "execution_count": 67,
     "metadata": {},
     "output_type": "execute_result"
    }
   ],
   "source": [
    "leader_model = aml.leader\n",
    "hf_test_predict = leader_model.predict(hf_test)\n",
    "df_results = pd.DataFrame()\n",
    "df_results['ground_truth'] = df_test[y].reset_index(drop=True)\n",
    "df_results['predictions'] = h2o.as_list(hf_test_predict,use_pandas=True)\n",
    "df_results.head()"
   ]
  },
  {
   "cell_type": "code",
   "execution_count": 68,
   "metadata": {},
   "outputs": [
    {
     "name": "stdout",
     "output_type": "stream",
     "text": [
      "RMSE: 0.0343236543686051\tMAE: 0.009540260633840973\tMSE: 0.0011781132492154638\tPBIAS: 4.864129541412004\tNSE: 0.2688249696504764\tR2 =  0.27050617979095476\n"
     ]
    }
   ],
   "source": [
    "from sklearn.metrics import mean_squared_error,mean_absolute_error\n",
    "\n",
    "y_test = df_results['ground_truth'].values\n",
    "y_pred = df_results['predictions'].values\n",
    "#RMSE\n",
    "rmse = np.sqrt(mean_squared_error(y_test, y_pred))\n",
    "print('RMSE:', rmse, end=\"\\t\")\n",
    "#MAE\n",
    "mae = mean_absolute_error(y_test, y_pred)\n",
    "print('MAE:', mae, end=\"\\t\")\n",
    "#MSE\n",
    "mse = mean_squared_error(y_test.reshape(-1), y_pred.reshape(-1))\n",
    "print(\"MSE:\", mse, end=\"\\t\")\n",
    "\n",
    "# PBIAS 계산\n",
    "diff = np.sum(y_pred - y_test)\n",
    "sum_observed = np.sum(y_test)\n",
    "pbias = (diff / sum_observed) * 100\n",
    "print('PBIAS:', pbias, end=\"\\t\")\n",
    "\n",
    "# NSE 계산\n",
    "diff_pred_obs = np.sum((y_pred - y_test) ** 2)\n",
    "diff_obs_mean = np.sum((y_test - np.mean(y_test)) ** 2)\n",
    "nse = 1 - (diff_pred_obs / diff_obs_mean)\n",
    "print('NSE:', nse, end=\"\\t\")\n",
    "slope, intercept, r_value, p_value, std_err = stats.linregress(x=df_results['predictions'],y=df_results['ground_truth'])\n",
    "print('R2 = ',r_value*r_value)"
   ]
  },
  {
   "cell_type": "code",
   "execution_count": null,
   "metadata": {},
   "outputs": [],
   "source": [
    "6: RMSE: 0.03386182854444071\tMAE: 0.010549754777035554\tMSE: 0.0011466234323730998\tPBIAS: 37.34445277138202\tNSE: 0.2883685642927989\n",
    "3: RMSE: 0.034062350729917125\tMAE: 0.009883647498013499\tMSE: 0.0011602437372478858\tPBIAS: 21.3911208327713\tNSE: 0.2799153643675597\t\n",
    "3-3 : RMSE: 0.03402165476116713\tMAE: 0.009863598127652029\tMSE: 0.0011574729926880458\tPBIAS: 26.973428064118636\tNSE: 0.28163497768909806\t\n",
    "4: RMSE: 0.03272931198411876\tMAE: 0.008836422557423633\tMSE: 0.0010712078629537803\tPBIAS: 13.917138284236884\tNSE: 0.335173895864885\t\n",
    "4-2: RMSE: 0.03467659119360274\tMAE: 0.00827112767966728\tMSE: 0.0012024659768082471\tPBIAS: 0.13901761399412663\tNSE: 0.25371088248729023\tR2 =  0.256821436627479\t\n",
    "4-5: RMSE: 0.0343236543686051\tMAE: 0.009540260633840973\tMSE: 0.0011781132492154638\tPBIAS: 4.864129541412004\tNSE: 0.2688249696504764\tR2 =  0.27050617979095476"
   ]
  },
  {
   "cell_type": "code",
   "execution_count": 69,
   "metadata": {},
   "outputs": [
    {
     "data": {
      "image/png": "[encoded data removed]",
      "text/plain": [
       "<Figure size 500x1000 with 1 Axes>"
      ]
     },
     "metadata": {},
     "output_type": "display_data"
    }
   ],
   "source": [
    "from matplotlib import pyplot as plt\n",
    "plt.rc('font', family='AppleGothic') \t\t\t## 이 두 줄을 \n",
    "plt.rcParams['axes.unicode_minus'] = False  ## 추가해줍니다. \n",
    "plt.rcParams[\"figure.figsize\"] = (5,10)\n",
    "plt.rcParams['axes.grid'] = True\n",
    "\n",
    "\n",
    "\n",
    "plt.scatter(x=df_results['predictions'],y=df_results['ground_truth'],s=1)\n",
    "plt.xlabel('predictions',fontsize=18)\n",
    "plt.ylabel('ground_truth',fontsize=18)\n",
    "plt.show()\n"
   ]
  },
  {
   "cell_type": "code",
   "execution_count": 70,
   "metadata": {},
   "outputs": [
    {
     "data": {
      "image/png": "[encoded data removed]",
      "text/plain": [
       "<Figure size 1400x400 with 1 Axes>"
      ]
     },
     "metadata": {},
     "output_type": "display_data"
    }
   ],
   "source": [
    "plt.rcParams[\"figure.figsize\"] = (14,4)\n",
    "plt.plot(df_results['ground_truth'])\n",
    "plt.plot(df_results['predictions'])\n",
    "plt.ylabel(y,fontsize=18)\n",
    "plt.legend(['ground_truth','prediction'])\n",
    "plt.show()"
   ]
  },
  {
   "cell_type": "code",
   "execution_count": null,
   "metadata": {},
   "outputs": [],
   "source": []
  }
 ],
 "metadata": {
  "kernelspec": {
   "display_name": "base",
   "language": "python",
   "name": "python3"
  },
  "language_info": {
   "codemirror_mode": {
    "name": "ipython",
    "version": 3
   },
   "file_extension": ".py",
   "mimetype": "text/x-python",
   "name": "python",
   "nbconvert_exporter": "python",
   "pygments_lexer": "ipython3",
   "version": "3.8.16"
  },
  "orig_nbformat": 4
 },
 "nbformat": 4,
 "nbformat_minor": 2
}
